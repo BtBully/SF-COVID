{
 "cells": [
  {
   "cell_type": "code",
   "execution_count": 1,
   "metadata": {},
   "outputs": [],
   "source": [
    "import pandas as pd\n",
    "import matplotlib.pyplot as plt\n",
    "import matplotlib.ticker as mtick\n",
    "import matplotlib.dates as mdates\n",
    "import requests\n",
    "import datetime as dt\n",
    "%matplotlib inline"
   ]
  },
  {
   "cell_type": "markdown",
   "metadata": {},
   "source": [
    "Call in results from API"
   ]
  },
  {
   "cell_type": "code",
   "execution_count": 2,
   "metadata": {},
   "outputs": [],
   "source": [
    "headers = {'X-App-Token':SF_DATA_APP_TOKEN}\n",
    "response = requests.get('https://data.sfgov.org/resource/nfpa-mg4g.json', headers=headers)\n",
    "tests = pd.DataFrame(response.json())"
   ]
  },
  {
   "cell_type": "code",
   "execution_count": 3,
   "metadata": {},
   "outputs": [
    {
     "data": {
      "text/plain": [
       "<Response [200]>"
      ]
     },
     "execution_count": 3,
     "metadata": {},
     "output_type": "execute_result"
    }
   ],
   "source": [
    "response"
   ]
  },
  {
   "cell_type": "code",
   "execution_count": 4,
   "metadata": {
    "scrolled": true
   },
   "outputs": [
    {
     "name": "stdout",
     "output_type": "stream",
     "text": [
      "<class 'pandas.core.frame.DataFrame'>\n",
      "RangeIndex: 202 entries, 0 to 201\n",
      "Data columns (total 7 columns):\n",
      " #   Column                    Non-Null Count  Dtype \n",
      "---  ------                    --------------  ----- \n",
      " 0   specimen_collection_date  202 non-null    object\n",
      " 1   tests                     202 non-null    object\n",
      " 2   pos                       202 non-null    object\n",
      " 3   pct                       202 non-null    object\n",
      " 4   neg                       202 non-null    object\n",
      " 5   indeterminate             202 non-null    object\n",
      " 6   last_updated_at           202 non-null    object\n",
      "dtypes: object(7)\n",
      "memory usage: 11.2+ KB\n"
     ]
    }
   ],
   "source": [
    "tests.info()"
   ]
  },
  {
   "cell_type": "markdown",
   "metadata": {},
   "source": [
    "Format the dates, throwing away the time (all zeros anyway)"
   ]
  },
  {
   "cell_type": "code",
   "execution_count": 5,
   "metadata": {},
   "outputs": [],
   "source": [
    "tests.specimen_collection_date = pd.to_datetime(tests.specimen_collection_date.str[:10], format='%Y-%m-%d')\n",
    "tests.last_updated_at = pd.to_datetime(tests.last_updated_at.str[:10], format='%Y-%m-%d')"
   ]
  },
  {
   "cell_type": "markdown",
   "metadata": {},
   "source": [
    "Format the other numbers"
   ]
  },
  {
   "cell_type": "code",
   "execution_count": 6,
   "metadata": {},
   "outputs": [],
   "source": [
    "tests.loc[:,'tests':'indeterminate'] = tests.loc[:,'tests':'indeterminate'].astype(float)"
   ]
  },
  {
   "cell_type": "code",
   "execution_count": 7,
   "metadata": {},
   "outputs": [
    {
     "name": "stdout",
     "output_type": "stream",
     "text": [
      "<class 'pandas.core.frame.DataFrame'>\n",
      "RangeIndex: 202 entries, 0 to 201\n",
      "Data columns (total 7 columns):\n",
      " #   Column                    Non-Null Count  Dtype         \n",
      "---  ------                    --------------  -----         \n",
      " 0   specimen_collection_date  202 non-null    datetime64[ns]\n",
      " 1   tests                     202 non-null    float64       \n",
      " 2   pos                       202 non-null    float64       \n",
      " 3   pct                       202 non-null    float64       \n",
      " 4   neg                       202 non-null    float64       \n",
      " 5   indeterminate             202 non-null    float64       \n",
      " 6   last_updated_at           202 non-null    datetime64[ns]\n",
      "dtypes: datetime64[ns](2), float64(5)\n",
      "memory usage: 11.2 KB\n"
     ]
    }
   ],
   "source": [
    "tests.info()"
   ]
  },
  {
   "cell_type": "markdown",
   "metadata": {},
   "source": [
    "5 day average"
   ]
  },
  {
   "cell_type": "code",
   "execution_count": 8,
   "metadata": {},
   "outputs": [
    {
     "data": {
      "text/html": [
       "<div>\n",
       "<style scoped>\n",
       "    .dataframe tbody tr th:only-of-type {\n",
       "        vertical-align: middle;\n",
       "    }\n",
       "\n",
       "    .dataframe tbody tr th {\n",
       "        vertical-align: top;\n",
       "    }\n",
       "\n",
       "    .dataframe thead th {\n",
       "        text-align: right;\n",
       "    }\n",
       "</style>\n",
       "<table border=\"1\" class=\"dataframe\">\n",
       "  <thead>\n",
       "    <tr style=\"text-align: right;\">\n",
       "      <th></th>\n",
       "      <th>specimen_collection_date</th>\n",
       "      <th>tests</th>\n",
       "      <th>pos</th>\n",
       "      <th>pct</th>\n",
       "      <th>neg</th>\n",
       "      <th>indeterminate</th>\n",
       "      <th>last_updated_at</th>\n",
       "    </tr>\n",
       "  </thead>\n",
       "  <tbody>\n",
       "    <tr>\n",
       "      <th>197</th>\n",
       "      <td>2020-09-13</td>\n",
       "      <td>1909.0</td>\n",
       "      <td>27.0</td>\n",
       "      <td>0.014181</td>\n",
       "      <td>1877.0</td>\n",
       "      <td>5.0</td>\n",
       "      <td>2020-09-17</td>\n",
       "    </tr>\n",
       "    <tr>\n",
       "      <th>198</th>\n",
       "      <td>2020-09-14</td>\n",
       "      <td>3724.0</td>\n",
       "      <td>90.0</td>\n",
       "      <td>0.024194</td>\n",
       "      <td>3630.0</td>\n",
       "      <td>4.0</td>\n",
       "      <td>2020-09-17</td>\n",
       "    </tr>\n",
       "    <tr>\n",
       "      <th>199</th>\n",
       "      <td>2020-09-15</td>\n",
       "      <td>3416.0</td>\n",
       "      <td>58.0</td>\n",
       "      <td>0.016989</td>\n",
       "      <td>3356.0</td>\n",
       "      <td>2.0</td>\n",
       "      <td>2020-09-17</td>\n",
       "    </tr>\n",
       "    <tr>\n",
       "      <th>200</th>\n",
       "      <td>2020-09-16</td>\n",
       "      <td>1542.0</td>\n",
       "      <td>24.0</td>\n",
       "      <td>0.015574</td>\n",
       "      <td>1517.0</td>\n",
       "      <td>1.0</td>\n",
       "      <td>2020-09-17</td>\n",
       "    </tr>\n",
       "    <tr>\n",
       "      <th>201</th>\n",
       "      <td>2020-09-17</td>\n",
       "      <td>20.0</td>\n",
       "      <td>4.0</td>\n",
       "      <td>0.200000</td>\n",
       "      <td>16.0</td>\n",
       "      <td>0.0</td>\n",
       "      <td>2020-09-17</td>\n",
       "    </tr>\n",
       "  </tbody>\n",
       "</table>\n",
       "</div>"
      ],
      "text/plain": [
       "    specimen_collection_date   tests   pos       pct     neg  indeterminate  \\\n",
       "197               2020-09-13  1909.0  27.0  0.014181  1877.0            5.0   \n",
       "198               2020-09-14  3724.0  90.0  0.024194  3630.0            4.0   \n",
       "199               2020-09-15  3416.0  58.0  0.016989  3356.0            2.0   \n",
       "200               2020-09-16  1542.0  24.0  0.015574  1517.0            1.0   \n",
       "201               2020-09-17    20.0   4.0  0.200000    16.0            0.0   \n",
       "\n",
       "    last_updated_at  \n",
       "197      2020-09-17  \n",
       "198      2020-09-17  \n",
       "199      2020-09-17  \n",
       "200      2020-09-17  \n",
       "201      2020-09-17  "
      ]
     },
     "execution_count": 8,
     "metadata": {},
     "output_type": "execute_result"
    }
   ],
   "source": [
    "five_day = tests.sort_values('specimen_collection_date')[-5:]\n",
    "five_day"
   ]
  },
  {
   "cell_type": "code",
   "execution_count": 9,
   "metadata": {},
   "outputs": [
    {
     "data": {
      "text/plain": [
       "1.91"
      ]
     },
     "execution_count": 9,
     "metadata": {},
     "output_type": "execute_result"
    }
   ],
   "source": [
    "prev = five_day.pos.sum() / five_day.tests.sum()\n",
    "round(prev * 100, 2)"
   ]
  },
  {
   "cell_type": "markdown",
   "metadata": {},
   "source": [
    "Sort by date"
   ]
  },
  {
   "cell_type": "code",
   "execution_count": 10,
   "metadata": {},
   "outputs": [],
   "source": [
    "tests = tests.sort_values(by='specimen_collection_date')"
   ]
  },
  {
   "cell_type": "markdown",
   "metadata": {},
   "source": [
    "Can work on a copy (for example: to drop most recent date id volume of tests is currently low)"
   ]
  },
  {
   "cell_type": "code",
   "execution_count": 11,
   "metadata": {},
   "outputs": [],
   "source": [
    "# tests2 = tests.drop(tests.index.max()).copy() #drop most recent date\n",
    "tests2 = tests #plot everything"
   ]
  },
  {
   "cell_type": "markdown",
   "metadata": {},
   "source": [
    "Plot tests2"
   ]
  },
  {
   "cell_type": "code",
   "execution_count": 12,
   "metadata": {},
   "outputs": [
    {
     "data": {
      "image/png": "[encoded data removed]",
      "text/plain": [
       "<Figure size 1440x720 with 2 Axes>"
      ]
     },
     "metadata": {
      "needs_background": "light"
     },
     "output_type": "display_data"
    }
   ],
   "source": [
    "#master controls\n",
    "#alphas------------------\n",
    "bar_alpha = 0.63\n",
    "line_alpha = 1\n",
    "perc_lines_alpha = 0.3\n",
    "key_dates_alpha = 0.5\n",
    "#on or off---------------\n",
    "perc_lines_on = True\n",
    "key_dates__on = True\n",
    "bars_on = True\n",
    "#axes scales-------------\n",
    "pct_scale = 0.4\n",
    "tests_scale = 14000\n",
    "#key_dates\n",
    "key_dates = [\n",
    "              ('Limited openings'                                , dt.datetime(2020, 5, 17))\n",
    "             ,('Small activities'                                , dt.datetime(2020, 6, 1 ))\n",
    "             ,('Outdoor dining'                                  , dt.datetime(2020, 6, 12))\n",
    "             ,('Phase 2B'                                        , dt.datetime(2020, 6, 15))\n",
    "             ,('Zoos'                                            , dt.datetime(2020, 7, 15))\n",
    "             ,('State watchlist'                                 , dt.datetime(2020, 7, 17))\n",
    "             ,('Outdoor hair salons'                             , dt.datetime(2020, 9, 9))\n",
    "             ,('Outdoor gyms'                                    , dt.datetime(2020, 9, 14))\n",
    "             ,('Indoor hair salons'                              , dt.datetime(2020, 9, 14))\n",
    "            ]\n",
    "#perc_lines\n",
    "perc_lines = [\n",
    "               2\n",
    "              ,5\n",
    "#               ,8\n",
    "             ]\n",
    "\n",
    "#set both axes\n",
    "fig, ax = plt.subplots(figsize=(20, 10))\n",
    "ax2 = ax.twinx()\n",
    "\n",
    "#scale axes\n",
    "ax2.set(adjustable='box',\n",
    "        ylim=(0, tests_scale))\n",
    "ax.set_ylim(0, pct_scale)\n",
    "\n",
    "#draw line and bars\n",
    "ax.plot(tests2['specimen_collection_date'], tests2['pct'], color=(0/255, 107/255, 164/255, line_alpha), \n",
    "        lw=2, label='Percent positive', zorder=2) # Line chart\n",
    "if bars_on == True:\n",
    "    ax2.bar(tests2['specimen_collection_date'], tests2['tests'], color=(255/255, 128/255, 14/255, bar_alpha), \n",
    "            label='Number of tests', zorder=2) # Bar chart\n",
    "\n",
    "#draw % lines\n",
    "if perc_lines_on == True:\n",
    "    for line in perc_lines:\n",
    "        line /= 100\n",
    "        ax.axhline(line, color='grey', alpha=perc_lines_alpha)\n",
    "        ax.text(tests2['specimen_collection_date'].max()+dt.timedelta(days=4), \n",
    "                line+0.002, str(round(line*100))+'%')\n",
    "    \n",
    "# ax.axhline(0.05, color='grey', alpha=two_perc_line_alpha)\n",
    "# ax.text(tests2['specimen_collection_date'].max()+dt.timedelta(days=4), 0.052, '5%')\n",
    "\n",
    "#Draw the 2% line on top\n",
    "ax.set_zorder(ax2.get_zorder()+1)\n",
    "ax.patch.set_visible(False)\n",
    "\n",
    "#draw key-date lines\n",
    "if key_dates__on == True:\n",
    "    line_height = 0.5\n",
    "    lines_top = 0.75\n",
    "    text_space = ((lines_top-line_height)/len(key_dates))\n",
    "    for name, date in key_dates:\n",
    "        ax.axvline(date, ymax=line_height, color='black', alpha=key_dates_alpha, zorder=1,\n",
    "                   ymin=tests2['pct'][tests2['specimen_collection_date']==date].iloc[0]/pct_scale)\n",
    "        ax.text(date, line_height*pct_scale, name, ha='right')\n",
    "        line_height += text_space\n",
    "    \n",
    "#can label axes instead of having legends\n",
    "# ax2.set_ylabel('Number of tests', fontsize=11)\n",
    "# ax.set_ylabel('Percent positive', fontsize=11)\n",
    "\n",
    "# Clean up chart\n",
    "for key, spine in ax.spines.items():\n",
    "    spine.set_visible(False)\n",
    "    \n",
    "for key, spine in ax2.spines.items():\n",
    "    spine.set_visible(False)\n",
    "\n",
    "ax.tick_params(top=False, bottom=False, left=False, right=False)\n",
    "ax2.tick_params(right=False)\n",
    "\n",
    "#legends and title\n",
    "ax.legend(loc=2, frameon=False)\n",
    "if bars_on == True:\n",
    "    ax2.legend(loc=1, frameon=False)\n",
    "plt.title(\"San Francisco COVID Tests\", fontsize=14)\n",
    "\n",
    "#format tick labels\n",
    "ax.yaxis.set_major_formatter(mtick.PercentFormatter(1, decimals=0))\n",
    "ax2.yaxis.set_major_formatter(mtick.FuncFormatter(lambda x, p: format(int(x), ',')))\n",
    "ax.xaxis.set_major_formatter(mdates.DateFormatter('%b %d'))\n",
    "\n",
    "#Fix tick issue\n",
    "locator = mdates.AutoDateLocator()\n",
    "locator.intervald[3] = locator.intervald[3][:-1]\n",
    "ax.xaxis.set_major_locator(locator)\n",
    "\n",
    "#show it or save it\n",
    "plt.savefig('SF COVID tests.png')\n",
    "# plt.show()"
   ]
  },
  {
   "cell_type": "markdown",
   "metadata": {},
   "source": [
    "Last five days"
   ]
  },
  {
   "cell_type": "code",
   "execution_count": 13,
   "metadata": {},
   "outputs": [
    {
     "data": {
      "text/plain": [
       "<matplotlib.axes._subplots.AxesSubplot at 0x24abb283a08>"
      ]
     },
     "execution_count": 13,
     "metadata": {},
     "output_type": "execute_result"
    },
    {
     "data": {
      "image/png": "[encoded data removed]",
      "text/plain": [
       "<Figure size 1440x720 with 1 Axes>"
      ]
     },
     "metadata": {
      "needs_background": "light"
     },
     "output_type": "display_data"
    }
   ],
   "source": [
    "five_day.plot('specimen_collection_date', 'pct', figsize=(20, 10))"
   ]
  },
  {
   "cell_type": "markdown",
   "metadata": {},
   "source": [
    "Last 15 days"
   ]
  },
  {
   "cell_type": "code",
   "execution_count": 14,
   "metadata": {},
   "outputs": [
    {
     "data": {
      "text/html": [
       "<div>\n",
       "<style scoped>\n",
       "    .dataframe tbody tr th:only-of-type {\n",
       "        vertical-align: middle;\n",
       "    }\n",
       "\n",
       "    .dataframe tbody tr th {\n",
       "        vertical-align: top;\n",
       "    }\n",
       "\n",
       "    .dataframe thead th {\n",
       "        text-align: right;\n",
       "    }\n",
       "</style>\n",
       "<table border=\"1\" class=\"dataframe\">\n",
       "  <thead>\n",
       "    <tr style=\"text-align: right;\">\n",
       "      <th></th>\n",
       "      <th>specimen_collection_date</th>\n",
       "      <th>tests</th>\n",
       "      <th>pos</th>\n",
       "      <th>pct</th>\n",
       "      <th>neg</th>\n",
       "      <th>indeterminate</th>\n",
       "      <th>last_updated_at</th>\n",
       "    </tr>\n",
       "  </thead>\n",
       "  <tbody>\n",
       "    <tr>\n",
       "      <th>187</th>\n",
       "      <td>2020-09-03</td>\n",
       "      <td>4327.0</td>\n",
       "      <td>100.0</td>\n",
       "      <td>0.023159</td>\n",
       "      <td>4218.0</td>\n",
       "      <td>9.0</td>\n",
       "      <td>2020-09-17</td>\n",
       "    </tr>\n",
       "    <tr>\n",
       "      <th>188</th>\n",
       "      <td>2020-09-04</td>\n",
       "      <td>4297.0</td>\n",
       "      <td>84.0</td>\n",
       "      <td>0.019760</td>\n",
       "      <td>4167.0</td>\n",
       "      <td>46.0</td>\n",
       "      <td>2020-09-17</td>\n",
       "    </tr>\n",
       "    <tr>\n",
       "      <th>189</th>\n",
       "      <td>2020-09-05</td>\n",
       "      <td>2306.0</td>\n",
       "      <td>44.0</td>\n",
       "      <td>0.019122</td>\n",
       "      <td>2257.0</td>\n",
       "      <td>5.0</td>\n",
       "      <td>2020-09-17</td>\n",
       "    </tr>\n",
       "    <tr>\n",
       "      <th>190</th>\n",
       "      <td>2020-09-06</td>\n",
       "      <td>1972.0</td>\n",
       "      <td>35.0</td>\n",
       "      <td>0.017830</td>\n",
       "      <td>1928.0</td>\n",
       "      <td>9.0</td>\n",
       "      <td>2020-09-17</td>\n",
       "    </tr>\n",
       "    <tr>\n",
       "      <th>191</th>\n",
       "      <td>2020-09-07</td>\n",
       "      <td>1262.0</td>\n",
       "      <td>60.0</td>\n",
       "      <td>0.047733</td>\n",
       "      <td>1197.0</td>\n",
       "      <td>5.0</td>\n",
       "      <td>2020-09-17</td>\n",
       "    </tr>\n",
       "    <tr>\n",
       "      <th>192</th>\n",
       "      <td>2020-09-08</td>\n",
       "      <td>5120.0</td>\n",
       "      <td>83.0</td>\n",
       "      <td>0.016243</td>\n",
       "      <td>5027.0</td>\n",
       "      <td>10.0</td>\n",
       "      <td>2020-09-17</td>\n",
       "    </tr>\n",
       "    <tr>\n",
       "      <th>193</th>\n",
       "      <td>2020-09-09</td>\n",
       "      <td>4943.0</td>\n",
       "      <td>80.0</td>\n",
       "      <td>0.016194</td>\n",
       "      <td>4860.0</td>\n",
       "      <td>3.0</td>\n",
       "      <td>2020-09-17</td>\n",
       "    </tr>\n",
       "    <tr>\n",
       "      <th>194</th>\n",
       "      <td>2020-09-10</td>\n",
       "      <td>4564.0</td>\n",
       "      <td>63.0</td>\n",
       "      <td>0.013813</td>\n",
       "      <td>4498.0</td>\n",
       "      <td>3.0</td>\n",
       "      <td>2020-09-17</td>\n",
       "    </tr>\n",
       "    <tr>\n",
       "      <th>195</th>\n",
       "      <td>2020-09-11</td>\n",
       "      <td>3889.0</td>\n",
       "      <td>126.0</td>\n",
       "      <td>0.032474</td>\n",
       "      <td>3754.0</td>\n",
       "      <td>9.0</td>\n",
       "      <td>2020-09-17</td>\n",
       "    </tr>\n",
       "    <tr>\n",
       "      <th>196</th>\n",
       "      <td>2020-09-12</td>\n",
       "      <td>2271.0</td>\n",
       "      <td>59.0</td>\n",
       "      <td>0.026083</td>\n",
       "      <td>2203.0</td>\n",
       "      <td>9.0</td>\n",
       "      <td>2020-09-17</td>\n",
       "    </tr>\n",
       "    <tr>\n",
       "      <th>197</th>\n",
       "      <td>2020-09-13</td>\n",
       "      <td>1909.0</td>\n",
       "      <td>27.0</td>\n",
       "      <td>0.014181</td>\n",
       "      <td>1877.0</td>\n",
       "      <td>5.0</td>\n",
       "      <td>2020-09-17</td>\n",
       "    </tr>\n",
       "    <tr>\n",
       "      <th>198</th>\n",
       "      <td>2020-09-14</td>\n",
       "      <td>3724.0</td>\n",
       "      <td>90.0</td>\n",
       "      <td>0.024194</td>\n",
       "      <td>3630.0</td>\n",
       "      <td>4.0</td>\n",
       "      <td>2020-09-17</td>\n",
       "    </tr>\n",
       "    <tr>\n",
       "      <th>199</th>\n",
       "      <td>2020-09-15</td>\n",
       "      <td>3416.0</td>\n",
       "      <td>58.0</td>\n",
       "      <td>0.016989</td>\n",
       "      <td>3356.0</td>\n",
       "      <td>2.0</td>\n",
       "      <td>2020-09-17</td>\n",
       "    </tr>\n",
       "    <tr>\n",
       "      <th>200</th>\n",
       "      <td>2020-09-16</td>\n",
       "      <td>1542.0</td>\n",
       "      <td>24.0</td>\n",
       "      <td>0.015574</td>\n",
       "      <td>1517.0</td>\n",
       "      <td>1.0</td>\n",
       "      <td>2020-09-17</td>\n",
       "    </tr>\n",
       "    <tr>\n",
       "      <th>201</th>\n",
       "      <td>2020-09-17</td>\n",
       "      <td>20.0</td>\n",
       "      <td>4.0</td>\n",
       "      <td>0.200000</td>\n",
       "      <td>16.0</td>\n",
       "      <td>0.0</td>\n",
       "      <td>2020-09-17</td>\n",
       "    </tr>\n",
       "  </tbody>\n",
       "</table>\n",
       "</div>"
      ],
      "text/plain": [
       "    specimen_collection_date   tests    pos       pct     neg  indeterminate  \\\n",
       "187               2020-09-03  4327.0  100.0  0.023159  4218.0            9.0   \n",
       "188               2020-09-04  4297.0   84.0  0.019760  4167.0           46.0   \n",
       "189               2020-09-05  2306.0   44.0  0.019122  2257.0            5.0   \n",
       "190               2020-09-06  1972.0   35.0  0.017830  1928.0            9.0   \n",
       "191               2020-09-07  1262.0   60.0  0.047733  1197.0            5.0   \n",
       "192               2020-09-08  5120.0   83.0  0.016243  5027.0           10.0   \n",
       "193               2020-09-09  4943.0   80.0  0.016194  4860.0            3.0   \n",
       "194               2020-09-10  4564.0   63.0  0.013813  4498.0            3.0   \n",
       "195               2020-09-11  3889.0  126.0  0.032474  3754.0            9.0   \n",
       "196               2020-09-12  2271.0   59.0  0.026083  2203.0            9.0   \n",
       "197               2020-09-13  1909.0   27.0  0.014181  1877.0            5.0   \n",
       "198               2020-09-14  3724.0   90.0  0.024194  3630.0            4.0   \n",
       "199               2020-09-15  3416.0   58.0  0.016989  3356.0            2.0   \n",
       "200               2020-09-16  1542.0   24.0  0.015574  1517.0            1.0   \n",
       "201               2020-09-17    20.0    4.0  0.200000    16.0            0.0   \n",
       "\n",
       "    last_updated_at  \n",
       "187      2020-09-17  \n",
       "188      2020-09-17  \n",
       "189      2020-09-17  \n",
       "190      2020-09-17  \n",
       "191      2020-09-17  \n",
       "192      2020-09-17  \n",
       "193      2020-09-17  \n",
       "194      2020-09-17  \n",
       "195      2020-09-17  \n",
       "196      2020-09-17  \n",
       "197      2020-09-17  \n",
       "198      2020-09-17  \n",
       "199      2020-09-17  \n",
       "200      2020-09-17  \n",
       "201      2020-09-17  "
      ]
     },
     "execution_count": 14,
     "metadata": {},
     "output_type": "execute_result"
    }
   ],
   "source": [
    "tests[-15:]"
   ]
  },
  {
   "cell_type": "markdown",
   "metadata": {},
   "source": [
    "Two-week average test positivity"
   ]
  },
  {
   "cell_type": "code",
   "execution_count": 15,
   "metadata": {},
   "outputs": [
    {
     "data": {
      "text/plain": [
       "2.0"
      ]
     },
     "execution_count": 15,
     "metadata": {},
     "output_type": "execute_result"
    }
   ],
   "source": [
    "round(100 * (tests[-14:].pos.sum() / tests[-14:].tests.sum()), 1)"
   ]
  }
 ],
 "metadata": {
  "kernelspec": {
   "display_name": "Python 3",
   "language": "python",
   "name": "python3"
  },
  "language_info": {
   "codemirror_mode": {
    "name": "ipython",
    "version": 3
   },
   "file_extension": ".py",
   "mimetype": "text/x-python",
   "name": "python",
   "nbconvert_exporter": "python",
   "pygments_lexer": "ipython3",
   "version": "3.7.7"
  }
 },
 "nbformat": 4,
 "nbformat_minor": 4
}
